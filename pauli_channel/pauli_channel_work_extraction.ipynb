{
 "cells": [
  {
   "cell_type": "markdown",
   "metadata": {},
   "source": [
    "# Pauli channel and work extraction"
   ]
  },
  {
   "cell_type": "markdown",
   "metadata": {},
   "source": [
    "This notebook reproduces the results of Fig. 5b in the paper, using the circuit described in Fig. 10.\n",
    "\n",
    "The notebook is divided in different sections:\n",
    "\n",
    "1. [Circuit preparation](#circuit_preparation) where the circuits are prepared \n",
    "2. [Simulation](#simulation) where they are simulated locally\n",
    "3. [Execution on the real device](#execution) where the jobs are sent for execution on the IBM Q devices\n",
    "4. [Analysis of the result](#analysis) where the results are collected and the plot is made\n",
    "\n",
    "This notebook was tested with qiskit 0.12.1 and Python 3.7.4"
   ]
  },
  {
   "cell_type": "code",
   "execution_count": 36,
   "metadata": {},
   "outputs": [],
   "source": [
    "import numpy as np\n",
    "import matplotlib.pyplot as plt\n",
    "\n",
    "from datetime import datetime\n",
    "import json\n",
    "import copy\n",
    "\n",
    "# Main qiskit imports\n",
    "from qiskit import QuantumRegister, ClassicalRegister\n",
    "from qiskit import QuantumCircuit, execute, Aer, IBMQ\n",
    "\n",
    "# Tomography\n",
    "from qiskit.ignis.verification.tomography import state_tomography_circuits\n",
    "from qiskit.ignis.verification.tomography import StateTomographyFitter\n",
    "\n",
    "# Calibration\n",
    "from qiskit.ignis.mitigation.measurement import (complete_meas_cal, \n",
    "                                                CompleteMeasFitter, \n",
    "                                                MeasurementFilter)\n",
    "\n",
    "from qiskit.assembler import disassemble\n",
    "\n",
    "# Utility functions\n",
    "from qiskit.tools.jupyter import *\n",
    "from qiskit.tools.monitor import job_monitor\n",
    "from qiskit.providers.jobstatus import JobStatus\n",
    "from tqdm import tqdm_notebook as tqdm"
   ]
  },
  {
   "cell_type": "code",
   "execution_count": 60,
   "metadata": {},
   "outputs": [
    {
     "data": {
      "application/vnd.jupyter.widget-view+json": {
       "model_id": "e7f20afead384db79029511bca6284eb",
       "version_major": 2,
       "version_minor": 0
      },
      "text/plain": [
       "Accordion(children=(VBox(layout=Layout(max_width='610px', min_width='610px')),), layout=Layout(max_height='500…"
      ]
     },
     "metadata": {},
     "output_type": "display_data"
    },
    {
     "data": {
      "application/javascript": [
       "$('div.job_widget')\n",
       "        .detach()\n",
       "        .appendTo($('#header'))\n",
       "        .css({\n",
       "            'z-index': 999,\n",
       "             'position': 'fixed',\n",
       "            'box-shadow': '5px 5px 5px -3px black',\n",
       "            'opacity': 0.95,\n",
       "            'float': 'left,'\n",
       "        })\n",
       "        "
      ],
      "text/plain": [
       "<IPython.core.display.Javascript object>"
      ]
     },
     "metadata": {},
     "output_type": "display_data"
    }
   ],
   "source": [
    "# Shows a window in the upper left part with real-time information \n",
    "# on the status of the jobs running on the IBM Q device\n",
    "%qiskit_job_watcher"
   ]
  },
  {
   "cell_type": "code",
   "execution_count": 3,
   "metadata": {},
   "outputs": [],
   "source": [
    "# We use ibmqx2\n",
    "IBMQ.load_account()\n",
    "backend = IBMQ.get_provider().get_backend('ibmqx2')\n",
    "\n",
    "# Local simulator and vector simulator\n",
    "simulator = Aer.get_backend('qasm_simulator')\n",
    "vector_backend = Aer.get_backend('statevector_simulator')"
   ]
  },
  {
   "cell_type": "markdown",
   "metadata": {},
   "source": [
    "### 1. Circuit preparation <a id='circuit_preparation'></a>"
   ]
  },
  {
   "cell_type": "code",
   "execution_count": 5,
   "metadata": {},
   "outputs": [
    {
     "data": {
      "application/vnd.jupyter.widget-view+json": {
       "model_id": "f3c3310c84654cf8a43740e16e03686d",
       "version_major": 2,
       "version_minor": 0
      },
      "text/plain": [
       "HBox(children=(IntProgress(value=0, max=21), HTML(value='')))"
      ]
     },
     "metadata": {},
     "output_type": "display_data"
    },
    {
     "name": "stdout",
     "output_type": "stream",
     "text": [
      "\n"
     ]
    }
   ],
   "source": [
    "from pauli_channel import pauli_channel_tan, pauli_channel_tanh\n",
    "\n",
    "SHOTS = 8192\n",
    "\n",
    "q = QuantumRegister(5, name='q')\n",
    "c = ClassicalRegister(2, name='c')\n",
    "\n",
    "system = 2\n",
    "ancilla = 4\n",
    "\n",
    "pauli_ancillae = [0, 1]\n",
    "\n",
    "t_values_exp = np.linspace(0, 5, 21)\n",
    "\n",
    "# Prepare the two qubits 0 and 2 in a psi- state\n",
    "prepare_two_qubit = QuantumCircuit(q)\n",
    "\n",
    "prepare_two_qubit.x(q[ancilla])\n",
    "prepare_two_qubit.x(q[system])\n",
    "prepare_two_qubit.h(q[ancilla])\n",
    "prepare_two_qubit.cx(q[ancilla], q[system]) \n",
    "prepare_two_qubit.barrier()\n",
    "\n",
    "# Parameters\n",
    "params_tan = {'eta': 0.1, 'omega': 2.0}\n",
    "params_tanh = {'eta': 1.0, 'omega': .5}\n",
    "\n",
    "circuits = {'tan': {}, 'tanh': {}}\n",
    "\n",
    "for t in tqdm(t_values_exp):\n",
    "    circ_tan = prepare_two_qubit + pauli_channel_tan(q, t, system, pauli_ancillae, **params_tan)\n",
    "    circ_tanh = prepare_two_qubit + pauli_channel_tanh(q, t, system, pauli_ancillae, **params_tanh)\n",
    "    tomo_circuits_tan = state_tomography_circuits(circ_tan, [q[ancilla], q[system]])\n",
    "    tomo_circuits_tanh = state_tomography_circuits(circ_tanh, [q[ancilla], q[system]])\n",
    "    \n",
    "    circuits['tan'][t] = tomo_circuits_tan\n",
    "    circuits['tanh'][t] = tomo_circuits_tanh"
   ]
  },
  {
   "cell_type": "code",
   "execution_count": 7,
   "metadata": {},
   "outputs": [
    {
     "data": {
      "image/png": "[encoded data removed]",
      "text/plain": [
       "<Figure size 939.12x385.28 with 1 Axes>"
      ]
     },
     "execution_count": 7,
     "metadata": {},
     "output_type": "execute_result"
    }
   ],
   "source": [
    "circuits['tan'][1.0][0].draw(output='mpl')"
   ]
  },
  {
   "cell_type": "markdown",
   "metadata": {},
   "source": [
    "Drawing of one of the circuits, with the measurement on the `(X, X)` basis."
   ]
  },
  {
   "cell_type": "markdown",
   "metadata": {},
   "source": [
    "### 2. Simulation <a id=\"simulation\"/>\n",
    "\n",
    "This cell executes locally the (noiseless) simulation of the circuits above."
   ]
  },
  {
   "cell_type": "code",
   "execution_count": 47,
   "metadata": {
    "scrolled": true
   },
   "outputs": [
    {
     "data": {
      "application/vnd.jupyter.widget-view+json": {
       "model_id": "",
       "version_major": 2,
       "version_minor": 0
      },
      "text/plain": [
       "HBox(children=(IntProgress(value=0, max=2), HTML(value='')))"
      ]
     },
     "metadata": {},
     "output_type": "display_data"
    },
    {
     "data": {
      "application/vnd.jupyter.widget-view+json": {
       "model_id": "",
       "version_major": 2,
       "version_minor": 0
      },
      "text/plain": [
       "HBox(children=(IntProgress(value=0, max=21), HTML(value='')))"
      ]
     },
     "metadata": {},
     "output_type": "display_data"
    },
    {
     "data": {
      "application/vnd.jupyter.widget-view+json": {
       "model_id": "",
       "version_major": 2,
       "version_minor": 0
      },
      "text/plain": [
       "HBox(children=(IntProgress(value=0, max=21), HTML(value='')))"
      ]
     },
     "metadata": {},
     "output_type": "display_data"
    },
    {
     "data": {
      "image/png": "[encoded data removed]",
      "text/plain": [
       "<Figure size 432x288 with 1 Axes>"
      ]
     },
     "metadata": {
      "needs_background": "light"
     },
     "output_type": "display_data"
    }
   ],
   "source": [
    "from extractable_work import extractable_work\n",
    "theor_tanh = json.load(open(\"wex_tanh.dat\"))\n",
    "theor_tan = json.load(open(\"wex_tan.dat\"))\n",
    "\n",
    "for label, circs in tqdm(circuits.items(), leave=False):\n",
    "    wext = []\n",
    "    for t, tomo_circuits in tqdm(circs.items(), leave=False):\n",
    "        job = execute(tomo_circuits, backend=simulator, shots=SHOTS)\n",
    "        result = job.result()\n",
    "        tomo_fitter = StateTomographyFitter(result, tomo_circuits)\n",
    "        rho = tomo_fitter.fit()\n",
    "        wext.append(extractable_work(rho, 1, 0))\n",
    "\n",
    "    plt.plot(list(circs.keys()), wext, 'x', label=label)\n",
    "\n",
    "plt.plot(theor_tan['t'], theor_tan['w_ex'], 'C0')\n",
    "plt.plot(theor_tanh['t'], theor_tanh['w_ex'], 'C1')\n",
    "\n",
    "plt.xlabel('t')\n",
    "plt.ylabel('$W_{ex}(t)$')\n",
    "plt.legend();"
   ]
  },
  {
   "cell_type": "markdown",
   "metadata": {},
   "source": [
    "### 3. Execution on the real device <a id=\"execution\" />\n",
    "\n",
    "\n",
    "> **NOTE:** At the moment, this division of circuits in jobs is not efficient, and 42 jobs are required. A normal IBM Q account only allows for 5 jobs to be queued at the same time, hence extra credits need to be requested to IBM.\n",
    "The circuits can be rearranged in a smarter way (up to 75 per job) to minimize the number of jobs."
   ]
  },
  {
   "cell_type": "code",
   "execution_count": 44,
   "metadata": {},
   "outputs": [
    {
     "data": {
      "application/vnd.jupyter.widget-view+json": {
       "model_id": "",
       "version_major": 2,
       "version_minor": 0
      },
      "text/plain": [
       "HBox(children=(IntProgress(value=0, max=2), HTML(value='')))"
      ]
     },
     "metadata": {},
     "output_type": "display_data"
    },
    {
     "data": {
      "application/vnd.jupyter.widget-view+json": {
       "model_id": "",
       "version_major": 2,
       "version_minor": 0
      },
      "text/plain": [
       "HBox(children=(IntProgress(value=0, max=21), HTML(value='')))"
      ]
     },
     "metadata": {},
     "output_type": "display_data"
    },
    {
     "data": {
      "application/vnd.jupyter.widget-view+json": {
       "model_id": "",
       "version_major": 2,
       "version_minor": 0
      },
      "text/plain": [
       "HBox(children=(IntProgress(value=0, max=21), HTML(value='')))"
      ]
     },
     "metadata": {},
     "output_type": "display_data"
    }
   ],
   "source": [
    "# Run the calibration job\n",
    "cal_circuits, state_labels = complete_meas_cal([system, ancilla], q, c)\n",
    "calibration_job = execute(cal_circuits, backend, shots=SHOTS)\n",
    "\n",
    "experiments = {'tan': {\n",
    "                    \"backend\": backend.name(),\n",
    "                    \"calibration\": calibration_job.job_id(),\n",
    "                    \"description\": \"tan\",\n",
    "                    \"jobs\": [],\n",
    "                    \"metadata\": params_tan\n",
    "                }, \n",
    "               'tanh': {\n",
    "                    \"backend\": backend.name(),\n",
    "                    \"calibration\": calibration_job.job_id(),\n",
    "                    \"description\": \"tanh\",\n",
    "                    \"jobs\": [],\n",
    "                    \"metadata\": params_tanh\n",
    "                }\n",
    "              }\n",
    "\n",
    "for label, circs in tqdm(circuits.items(), leave=False):\n",
    "    wext = []\n",
    "    for t, tomo_circuits in tqdm(circs.items(), leave=False):\n",
    "        job = execute(tomo_circuits, backend=backend, shots=SHOTS)\n",
    "        experiments[label]['jobs'].append({'jobid': job.job_id(), 'description': \"Two-qubit tomography circuits\", 'metadata': {'t': t}})        \n",
    "\n",
    "experiment_data = list(experiments.values())\n",
    "        \n",
    "filename = 'pauli_channel_work_extraction_{}.json'.format(\n",
    "            datetime.now().strftime((\"%Y_%m_%d-%H_%M\")))\n",
    "\n",
    "with open(filename,'w') as file:\n",
    "    json.dump(experiment_data, file)"
   ]
  },
  {
   "cell_type": "markdown",
   "metadata": {},
   "source": [
    "All the information about the experiment is stored in a JSON file called `pauli_channel_work_extraction_DATETIME.json`."
   ]
  },
  {
   "cell_type": "markdown",
   "metadata": {},
   "source": [
    "### 4. Analysis of the results <a id=\"analysis\"/>\n",
    "#### Instructions:\n",
    "Use the `filename` variable to load the JSON file containing the experiment information"
   ]
  },
  {
   "cell_type": "code",
   "execution_count": 48,
   "metadata": {},
   "outputs": [
    {
     "name": "stdout",
     "output_type": "stream",
     "text": [
      "Available experiment files:\n",
      "pauli_channel_work_extraction_2019_10_11-16_36.json\n",
      "pauli_channel_work_extraction_2019_10_11-16_09.json\n"
     ]
    }
   ],
   "source": [
    "# List the available experiment files\n",
    "\n",
    "import glob\n",
    "\n",
    "print(\"Available experiment files:\")\n",
    "for f in glob.glob('*.json'):\n",
    "    print(f)"
   ]
  },
  {
   "cell_type": "code",
   "execution_count": 61,
   "metadata": {},
   "outputs": [],
   "source": [
    "filename = \"pauli_channel_work_extraction_2019_10_11-16_36.json\"\n",
    "\n",
    "with open(filename, 'r') as file:\n",
    "    experiment_data = json.load(file)"
   ]
  },
  {
   "cell_type": "code",
   "execution_count": 91,
   "metadata": {},
   "outputs": [
    {
     "data": {
      "application/vnd.jupyter.widget-view+json": {
       "model_id": "",
       "version_major": 2,
       "version_minor": 0
      },
      "text/plain": [
       "HBox(children=(IntProgress(value=0, max=2), HTML(value='')))"
      ]
     },
     "metadata": {},
     "output_type": "display_data"
    },
    {
     "data": {
      "application/vnd.jupyter.widget-view+json": {
       "model_id": "",
       "version_major": 2,
       "version_minor": 0
      },
      "text/plain": [
       "HBox(children=(IntProgress(value=0, max=21), HTML(value='')))"
      ]
     },
     "metadata": {},
     "output_type": "display_data"
    },
    {
     "data": {
      "application/vnd.jupyter.widget-view+json": {
       "model_id": "",
       "version_major": 2,
       "version_minor": 0
      },
      "text/plain": [
       "HBox(children=(IntProgress(value=0, max=21), HTML(value='')))"
      ]
     },
     "metadata": {},
     "output_type": "display_data"
    },
    {
     "data": {
      "image/png": "[encoded data removed]",
      "text/plain": [
       "<Figure size 432x288 with 1 Axes>"
      ]
     },
     "metadata": {
      "needs_background": "light"
     },
     "output_type": "display_data"
    }
   ],
   "source": [
    "from extractable_work import extractable_work\n",
    "theor_tanh = json.load(open(\"wex_tanh.dat\"))\n",
    "theor_tan = json.load(open(\"wex_tan.dat\"))\n",
    "\n",
    "for experiment in tqdm(experiment_data, leave=False):\n",
    "    backend = IBMQ.get_provider().get_backend(experiment['backend'])\n",
    "    \n",
    "    # Use the calibration job to implement the error mitigation\n",
    "    calibration_job = backend.retrieve_job(experiment['calibration'])\n",
    "    if calibration_job.status() == JobStatus.DONE:\n",
    "        meas_fitter = CompleteMeasFitter(calibration_job.result(), state_labels)\n",
    "        meas_filter = meas_fitter.filter\n",
    "\n",
    "        label = experiment['description']\n",
    "        t = []\n",
    "        wext = []\n",
    "        for jobdata in tqdm(experiment['jobs'], leave=False):\n",
    "            job = backend.retrieve_job(jobdata['jobid'])\n",
    "            if job.status() == JobStatus.DONE:\n",
    "                result = job.result()\n",
    "                result = meas_filter.apply(result)\n",
    "                \n",
    "                tomo_circuits = disassemble(job.qobj())[0]\n",
    "                tomo_fitter = StateTomographyFitter(result, tomo_circuits)\n",
    "                rho = tomo_fitter.fit()\n",
    "                \n",
    "                t.append(jobdata['metadata']['t'])\n",
    "                wext.append(extractable_work(rho, 1, 0))\n",
    "            else:\n",
    "                break\n",
    "\n",
    "    plt.plot(t, wext, 'x', label=label)\n",
    "\n",
    "plt.plot(theor_tan['t'], theor_tan['w_ex'], 'C0')\n",
    "plt.plot(theor_tanh['t'], theor_tanh['w_ex'], 'C1')\n",
    "\n",
    "plt.xlabel('t')\n",
    "plt.ylabel('$W_{ex}(t)$')\n",
    "plt.legend();"
   ]
  },
  {
   "cell_type": "markdown",
   "metadata": {},
   "source": [
    "The job contains info on the gate and measurement error rates"
   ]
  },
  {
   "cell_type": "code",
   "execution_count": 93,
   "metadata": {},
   "outputs": [
    {
     "data": {
      "text/plain": [
       "[[Nduv(date=datetime.datetime(2019, 10, 10, 8, 48, 19, tzinfo=tzutc()), name='T1', unit='µs', value=74.85208690842674),\n",
       "  Nduv(date=datetime.datetime(2019, 10, 10, 8, 49, 59, tzinfo=tzutc()), name='T2', unit='µs', value=63.00239136127134),\n",
       "  Nduv(date=datetime.datetime(2019, 10, 10, 9, 50, 37, tzinfo=tzutc()), name='frequency', unit='GHz', value=5.286310100364124),\n",
       "  Nduv(date=datetime.datetime(2019, 10, 10, 8, 46, 51, tzinfo=tzutc()), name='readout_error', unit='', value=0.011500000000000066),\n",
       "  Nduv(date=datetime.datetime(2019, 10, 10, 8, 46, 51, tzinfo=tzutc()), name='prob_meas0_prep1', unit='', value=0.015000000000000013),\n",
       "  Nduv(date=datetime.datetime(2019, 10, 10, 8, 46, 51, tzinfo=tzutc()), name='prob_meas1_prep0', unit='', value=0.008)],\n",
       " [Nduv(date=datetime.datetime(2019, 10, 10, 8, 48, 19, tzinfo=tzutc()), name='T1', unit='µs', value=55.91509286343368),\n",
       "  Nduv(date=datetime.datetime(2019, 10, 10, 8, 51, 50, tzinfo=tzutc()), name='T2', unit='µs', value=49.94183738916608),\n",
       "  Nduv(date=datetime.datetime(2019, 10, 10, 9, 50, 37, tzinfo=tzutc()), name='frequency', unit='GHz', value=5.237857365001662),\n",
       "  Nduv(date=datetime.datetime(2019, 10, 10, 8, 46, 51, tzinfo=tzutc()), name='readout_error', unit='', value=0.013000000000000012),\n",
       "  Nduv(date=datetime.datetime(2019, 10, 10, 8, 46, 51, tzinfo=tzutc()), name='prob_meas0_prep1', unit='', value=0.02300000000000002),\n",
       "  Nduv(date=datetime.datetime(2019, 10, 10, 8, 46, 51, tzinfo=tzutc()), name='prob_meas1_prep0', unit='', value=0.003)],\n",
       " [Nduv(date=datetime.datetime(2019, 10, 10, 8, 48, 19, tzinfo=tzutc()), name='T1', unit='µs', value=48.493587285146134),\n",
       "  Nduv(date=datetime.datetime(2019, 10, 10, 8, 53, 39, tzinfo=tzutc()), name='T2', unit='µs', value=71.44467982265964),\n",
       "  Nduv(date=datetime.datetime(2019, 10, 10, 9, 50, 37, tzinfo=tzutc()), name='frequency', unit='GHz', value=5.0302584298484625),\n",
       "  Nduv(date=datetime.datetime(2019, 10, 10, 8, 46, 51, tzinfo=tzutc()), name='readout_error', unit='', value=0.02200000000000002),\n",
       "  Nduv(date=datetime.datetime(2019, 10, 10, 8, 46, 51, tzinfo=tzutc()), name='prob_meas0_prep1', unit='', value=0.028000000000000025),\n",
       "  Nduv(date=datetime.datetime(2019, 10, 10, 8, 46, 51, tzinfo=tzutc()), name='prob_meas1_prep0', unit='', value=0.016)],\n",
       " [Nduv(date=datetime.datetime(2019, 10, 9, 9, 6, 37, tzinfo=tzutc()), name='T1', unit='µs', value=50.94297901932959),\n",
       "  Nduv(date=datetime.datetime(2019, 10, 10, 8, 49, 59, tzinfo=tzutc()), name='T2', unit='µs', value=33.012206841849164),\n",
       "  Nduv(date=datetime.datetime(2019, 10, 10, 9, 50, 37, tzinfo=tzutc()), name='frequency', unit='GHz', value=5.296035992380376),\n",
       "  Nduv(date=datetime.datetime(2019, 10, 10, 8, 46, 51, tzinfo=tzutc()), name='readout_error', unit='', value=0.013500000000000068),\n",
       "  Nduv(date=datetime.datetime(2019, 10, 10, 8, 46, 51, tzinfo=tzutc()), name='prob_meas0_prep1', unit='', value=0.019000000000000017),\n",
       "  Nduv(date=datetime.datetime(2019, 10, 10, 8, 46, 51, tzinfo=tzutc()), name='prob_meas1_prep0', unit='', value=0.008)],\n",
       " [Nduv(date=datetime.datetime(2019, 10, 10, 8, 48, 19, tzinfo=tzutc()), name='T1', unit='µs', value=53.841195989072794),\n",
       "  Nduv(date=datetime.datetime(2019, 10, 10, 8, 51, 50, tzinfo=tzutc()), name='T2', unit='µs', value=56.08329929781503),\n",
       "  Nduv(date=datetime.datetime(2019, 10, 10, 9, 50, 37, tzinfo=tzutc()), name='frequency', unit='GHz', value=5.0847117156430865),\n",
       "  Nduv(date=datetime.datetime(2019, 10, 10, 8, 46, 51, tzinfo=tzutc()), name='readout_error', unit='', value=0.01849999999999996),\n",
       "  Nduv(date=datetime.datetime(2019, 10, 10, 8, 46, 51, tzinfo=tzutc()), name='prob_meas0_prep1', unit='', value=0.026000000000000023),\n",
       "  Nduv(date=datetime.datetime(2019, 10, 10, 8, 46, 51, tzinfo=tzutc()), name='prob_meas1_prep0', unit='', value=0.011)]]"
      ]
     },
     "execution_count": 93,
     "metadata": {},
     "output_type": "execute_result"
    }
   ],
   "source": [
    "job.properties().qubits"
   ]
  },
  {
   "cell_type": "code",
   "execution_count": 94,
   "metadata": {},
   "outputs": [
    {
     "data": {
      "text/plain": [
       "[Gate(gate='id', name='id_0', parameters=[Nduv(date=datetime.datetime(2019, 10, 10, 8, 55, 41, tzinfo=tzutc()), name='gate_error', unit='', value=0.000530003638190013), Nduv(date=datetime.datetime(2019, 10, 10, 9, 50, 37, tzinfo=tzutc()), name='gate_length', unit='ns', value=35.55555555555556)], qubits=[0]),\n",
       " Gate(gate='u1', name='u1_0', parameters=[Nduv(date=datetime.datetime(2019, 10, 10, 8, 55, 41, tzinfo=tzutc()), name='gate_error', unit='', value=0.0), Nduv(date=datetime.datetime(2019, 10, 10, 9, 50, 37, tzinfo=tzutc()), name='gate_length', unit='ns', value=0.0)], qubits=[0]),\n",
       " Gate(gate='u2', name='u2_0', parameters=[Nduv(date=datetime.datetime(2019, 10, 10, 8, 55, 41, tzinfo=tzutc()), name='gate_error', unit='', value=0.000530003638190013), Nduv(date=datetime.datetime(2019, 10, 10, 9, 50, 37, tzinfo=tzutc()), name='gate_length', unit='ns', value=35.55555555555556)], qubits=[0]),\n",
       " Gate(gate='u3', name='u3_0', parameters=[Nduv(date=datetime.datetime(2019, 10, 10, 8, 55, 41, tzinfo=tzutc()), name='gate_error', unit='', value=0.001060007276380026), Nduv(date=datetime.datetime(2019, 10, 10, 9, 50, 37, tzinfo=tzutc()), name='gate_length', unit='ns', value=71.11111111111111)], qubits=[0]),\n",
       " Gate(gate='id', name='id_1', parameters=[Nduv(date=datetime.datetime(2019, 10, 10, 8, 58, 11, tzinfo=tzutc()), name='gate_error', unit='', value=0.00048623317931454594), Nduv(date=datetime.datetime(2019, 10, 10, 9, 50, 37, tzinfo=tzutc()), name='gate_length', unit='ns', value=35.55555555555556)], qubits=[1]),\n",
       " Gate(gate='u1', name='u1_1', parameters=[Nduv(date=datetime.datetime(2019, 10, 10, 8, 58, 11, tzinfo=tzutc()), name='gate_error', unit='', value=0.0), Nduv(date=datetime.datetime(2019, 10, 10, 9, 50, 37, tzinfo=tzutc()), name='gate_length', unit='ns', value=0.0)], qubits=[1]),\n",
       " Gate(gate='u2', name='u2_1', parameters=[Nduv(date=datetime.datetime(2019, 10, 10, 8, 58, 11, tzinfo=tzutc()), name='gate_error', unit='', value=0.00048623317931454594), Nduv(date=datetime.datetime(2019, 10, 10, 9, 50, 37, tzinfo=tzutc()), name='gate_length', unit='ns', value=35.55555555555556)], qubits=[1]),\n",
       " Gate(gate='u3', name='u3_1', parameters=[Nduv(date=datetime.datetime(2019, 10, 10, 8, 58, 11, tzinfo=tzutc()), name='gate_error', unit='', value=0.0009724663586290919), Nduv(date=datetime.datetime(2019, 10, 10, 9, 50, 37, tzinfo=tzutc()), name='gate_length', unit='ns', value=71.11111111111111)], qubits=[1]),\n",
       " Gate(gate='id', name='id_2', parameters=[Nduv(date=datetime.datetime(2019, 10, 10, 9, 0, 41, tzinfo=tzutc()), name='gate_error', unit='', value=0.00035051237273508225), Nduv(date=datetime.datetime(2019, 10, 10, 9, 50, 37, tzinfo=tzutc()), name='gate_length', unit='ns', value=35.55555555555556)], qubits=[2]),\n",
       " Gate(gate='u1', name='u1_2', parameters=[Nduv(date=datetime.datetime(2019, 10, 10, 9, 0, 41, tzinfo=tzutc()), name='gate_error', unit='', value=0.0), Nduv(date=datetime.datetime(2019, 10, 10, 9, 50, 37, tzinfo=tzutc()), name='gate_length', unit='ns', value=0.0)], qubits=[2]),\n",
       " Gate(gate='u2', name='u2_2', parameters=[Nduv(date=datetime.datetime(2019, 10, 10, 9, 0, 41, tzinfo=tzutc()), name='gate_error', unit='', value=0.00035051237273508225), Nduv(date=datetime.datetime(2019, 10, 10, 9, 50, 37, tzinfo=tzutc()), name='gate_length', unit='ns', value=35.55555555555556)], qubits=[2]),\n",
       " Gate(gate='u3', name='u3_2', parameters=[Nduv(date=datetime.datetime(2019, 10, 10, 9, 0, 41, tzinfo=tzutc()), name='gate_error', unit='', value=0.0007010247454701645), Nduv(date=datetime.datetime(2019, 10, 10, 9, 50, 37, tzinfo=tzutc()), name='gate_length', unit='ns', value=71.11111111111111)], qubits=[2]),\n",
       " Gate(gate='id', name='id_3', parameters=[Nduv(date=datetime.datetime(2019, 10, 10, 9, 3, 10, tzinfo=tzutc()), name='gate_error', unit='', value=0.0005103119016726023), Nduv(date=datetime.datetime(2019, 10, 10, 9, 50, 37, tzinfo=tzutc()), name='gate_length', unit='ns', value=35.55555555555556)], qubits=[3]),\n",
       " Gate(gate='u1', name='u1_3', parameters=[Nduv(date=datetime.datetime(2019, 10, 10, 9, 3, 10, tzinfo=tzutc()), name='gate_error', unit='', value=0.0), Nduv(date=datetime.datetime(2019, 10, 10, 9, 50, 37, tzinfo=tzutc()), name='gate_length', unit='ns', value=0.0)], qubits=[3]),\n",
       " Gate(gate='u2', name='u2_3', parameters=[Nduv(date=datetime.datetime(2019, 10, 10, 9, 3, 10, tzinfo=tzutc()), name='gate_error', unit='', value=0.0005103119016726023), Nduv(date=datetime.datetime(2019, 10, 10, 9, 50, 37, tzinfo=tzutc()), name='gate_length', unit='ns', value=35.55555555555556)], qubits=[3]),\n",
       " Gate(gate='u3', name='u3_3', parameters=[Nduv(date=datetime.datetime(2019, 10, 10, 9, 3, 10, tzinfo=tzutc()), name='gate_error', unit='', value=0.0010206238033452046), Nduv(date=datetime.datetime(2019, 10, 10, 9, 50, 37, tzinfo=tzutc()), name='gate_length', unit='ns', value=71.11111111111111)], qubits=[3]),\n",
       " Gate(gate='id', name='id_4', parameters=[Nduv(date=datetime.datetime(2019, 10, 10, 9, 5, 40, tzinfo=tzutc()), name='gate_error', unit='', value=0.00033568012760260896), Nduv(date=datetime.datetime(2019, 10, 10, 9, 50, 37, tzinfo=tzutc()), name='gate_length', unit='ns', value=35.55555555555556)], qubits=[4]),\n",
       " Gate(gate='u1', name='u1_4', parameters=[Nduv(date=datetime.datetime(2019, 10, 10, 9, 5, 40, tzinfo=tzutc()), name='gate_error', unit='', value=0.0), Nduv(date=datetime.datetime(2019, 10, 10, 9, 50, 37, tzinfo=tzutc()), name='gate_length', unit='ns', value=0.0)], qubits=[4]),\n",
       " Gate(gate='u2', name='u2_4', parameters=[Nduv(date=datetime.datetime(2019, 10, 10, 9, 5, 40, tzinfo=tzutc()), name='gate_error', unit='', value=0.00033568012760260896), Nduv(date=datetime.datetime(2019, 10, 10, 9, 50, 37, tzinfo=tzutc()), name='gate_length', unit='ns', value=35.55555555555556)], qubits=[4]),\n",
       " Gate(gate='u3', name='u3_4', parameters=[Nduv(date=datetime.datetime(2019, 10, 10, 9, 5, 40, tzinfo=tzutc()), name='gate_error', unit='', value=0.0006713602552052179), Nduv(date=datetime.datetime(2019, 10, 10, 9, 50, 37, tzinfo=tzutc()), name='gate_length', unit='ns', value=71.11111111111111)], qubits=[4]),\n",
       " Gate(gate='cx', name='cx0_1', parameters=[Nduv(date=datetime.datetime(2019, 10, 10, 9, 12, 44, tzinfo=tzutc()), name='gate_error', unit='', value=0.012965101499951642), Nduv(date=datetime.datetime(2019, 10, 10, 9, 50, 37, tzinfo=tzutc()), name='gate_length', unit='ns', value=362.66666666666663)], qubits=[0, 1]),\n",
       " Gate(gate='cx', name='cx0_2', parameters=[Nduv(date=datetime.datetime(2019, 10, 10, 9, 20, 43, tzinfo=tzutc()), name='gate_error', unit='', value=0.01465408182914757), Nduv(date=datetime.datetime(2019, 10, 10, 9, 50, 37, tzinfo=tzutc()), name='gate_length', unit='ns', value=490.66666666666663)], qubits=[0, 2]),\n",
       " Gate(gate='cx', name='cx1_0', parameters=[Nduv(date=datetime.datetime(2019, 10, 10, 9, 12, 44, tzinfo=tzutc()), name='gate_error', unit='', value=0.012965101499951642), Nduv(date=datetime.datetime(2019, 10, 10, 9, 50, 37, tzinfo=tzutc()), name='gate_length', unit='ns', value=362.66666666666663)], qubits=[1, 0]),\n",
       " Gate(gate='cx', name='cx1_2', parameters=[Nduv(date=datetime.datetime(2019, 10, 10, 9, 28, 41, tzinfo=tzutc()), name='gate_error', unit='', value=0.014727243870379603), Nduv(date=datetime.datetime(2019, 10, 10, 9, 50, 37, tzinfo=tzutc()), name='gate_length', unit='ns', value=512.0)], qubits=[1, 2]),\n",
       " Gate(gate='cx', name='cx2_0', parameters=[Nduv(date=datetime.datetime(2019, 10, 10, 9, 20, 43, tzinfo=tzutc()), name='gate_error', unit='', value=0.01465408182914757), Nduv(date=datetime.datetime(2019, 10, 10, 9, 50, 37, tzinfo=tzutc()), name='gate_length', unit='ns', value=490.66666666666663)], qubits=[2, 0]),\n",
       " Gate(gate='cx', name='cx2_1', parameters=[Nduv(date=datetime.datetime(2019, 10, 10, 9, 28, 41, tzinfo=tzutc()), name='gate_error', unit='', value=0.014727243870379603), Nduv(date=datetime.datetime(2019, 10, 10, 9, 50, 37, tzinfo=tzutc()), name='gate_length', unit='ns', value=512.0)], qubits=[2, 1]),\n",
       " Gate(gate='cx', name='cx2_3', parameters=[Nduv(date=datetime.datetime(2019, 10, 10, 9, 34, 39, tzinfo=tzutc()), name='gate_error', unit='', value=0.0197680029048376), Nduv(date=datetime.datetime(2019, 10, 10, 9, 50, 37, tzinfo=tzutc()), name='gate_length', unit='ns', value=391.1111111111111)], qubits=[2, 3]),\n",
       " Gate(gate='cx', name='cx2_4', parameters=[Nduv(date=datetime.datetime(2019, 10, 10, 9, 50, 37, tzinfo=tzutc()), name='gate_error', unit='', value=0.009781530975068647), Nduv(date=datetime.datetime(2019, 10, 10, 9, 50, 37, tzinfo=tzutc()), name='gate_length', unit='ns', value=312.88888888888886)], qubits=[2, 4]),\n",
       " Gate(gate='cx', name='cx3_2', parameters=[Nduv(date=datetime.datetime(2019, 10, 10, 9, 34, 39, tzinfo=tzutc()), name='gate_error', unit='', value=0.0197680029048376), Nduv(date=datetime.datetime(2019, 10, 10, 9, 50, 37, tzinfo=tzutc()), name='gate_length', unit='ns', value=391.1111111111111)], qubits=[3, 2]),\n",
       " Gate(gate='cx', name='cx3_4', parameters=[Nduv(date=datetime.datetime(2019, 10, 10, 9, 42, 38, tzinfo=tzutc()), name='gate_error', unit='', value=0.017627607098522707), Nduv(date=datetime.datetime(2019, 10, 10, 9, 50, 37, tzinfo=tzutc()), name='gate_length', unit='ns', value=405.3333333333333)], qubits=[3, 4]),\n",
       " Gate(gate='cx', name='cx4_2', parameters=[Nduv(date=datetime.datetime(2019, 10, 10, 9, 50, 37, tzinfo=tzutc()), name='gate_error', unit='', value=0.009781530975068647), Nduv(date=datetime.datetime(2019, 10, 10, 9, 50, 37, tzinfo=tzutc()), name='gate_length', unit='ns', value=312.88888888888886)], qubits=[4, 2]),\n",
       " Gate(gate='cx', name='cx4_3', parameters=[Nduv(date=datetime.datetime(2019, 10, 10, 9, 42, 38, tzinfo=tzutc()), name='gate_error', unit='', value=0.017627607098522707), Nduv(date=datetime.datetime(2019, 10, 10, 9, 50, 37, tzinfo=tzutc()), name='gate_length', unit='ns', value=405.3333333333333)], qubits=[4, 3])]"
      ]
     },
     "execution_count": 94,
     "metadata": {},
     "output_type": "execute_result"
    }
   ],
   "source": [
    "job.properties().gates"
   ]
  }
 ],
 "metadata": {
  "kernelspec": {
   "display_name": "Python 3",
   "language": "python",
   "name": "python3"
  },
  "language_info": {
   "codemirror_mode": {
    "name": "ipython",
    "version": 3
   },
   "file_extension": ".py",
   "mimetype": "text/x-python",
   "name": "python",
   "nbconvert_exporter": "python",
   "pygments_lexer": "ipython3",
   "version": "3.7.4"
  }
 },
 "nbformat": 4,
 "nbformat_minor": 2
}
