{
 "cells": [
  {
   "cell_type": "markdown",
   "metadata": {},
   "source": [
    "# Markovian reservoir engineering"
   ]
  },
  {
   "cell_type": "markdown",
   "metadata": {},
   "source": [
    "This notebook reproduces the results of Fig. 1 in the paper, using the circuits described in Fig. 6.\n",
    "\n",
    "The notebook is divided in different sections:\n",
    "\n",
    "1. [Circuit preparation](#circuit_preparation) where the circuits are prepared \n",
    "2. [Simulation](#simulation) where they are simulated locally\n",
    "3. [Execution on the real device](#execution) where the jobs are sent for execution on the IBM Q devices\n",
    "4. [Analysis of the result](#analysis) where the results are collected and the plot is made\n",
    "\n",
    "This notebook was tested with qiskit 0.12.1 and Python 3.7.4"
   ]
  },
  {
   "cell_type": "code",
   "execution_count": null,
   "metadata": {},
   "outputs": [],
   "source": [
    "import numpy as np\n",
    "import matplotlib.pyplot as plt\n",
    "\n",
    "from datetime import datetime\n",
    "import json\n",
    "import copy\n",
    "\n",
    "# Main qiskit imports\n",
    "from qiskit import QuantumRegister, ClassicalRegister\n",
    "from qiskit import QuantumCircuit, execute, Aer, IBMQ\n",
    "\n",
    "# Tomography\n",
    "from qiskit.ignis.verification.tomography import state_tomography_circuits\n",
    "from qiskit.ignis.verification.tomography import StateTomographyFitter\n",
    "\n",
    "# Calibration\n",
    "from qiskit.ignis.mitigation.measurement import (complete_meas_cal, \n",
    "                                                CompleteMeasFitter, \n",
    "                                                MeasurementFilter)\n",
    "\n",
    "# Utility functions\n",
    "from qiskit.tools.qi.qi import partial_trace\n",
    "from qiskit.tools.jupyter import *\n",
    "from qiskit.tools.monitor import job_monitor\n",
    "from qiskit.providers.jobstatus import JobStatus"
   ]
  },
  {
   "cell_type": "code",
   "execution_count": null,
   "metadata": {},
   "outputs": [],
   "source": [
    "# Shows a window in the upper left part with real-time information \n",
    "# on the status of the jobs running on the IBM Q device\n",
    "%qiskit_job_watcher"
   ]
  },
  {
   "cell_type": "code",
   "execution_count": null,
   "metadata": {},
   "outputs": [],
   "source": [
    "# We use ibmqx2, but ibmq_vigo and ibmq_ourense work as well\n",
    "IBMQ.load_account()\n",
    "backend = IBMQ.get_provider(hub='ibm-q', group='open', project='main').get_backend('ibmqx2')\n",
    "\n",
    "# Local simulator and vector simulator\n",
    "simulator = Aer.get_backend('qasm_simulator')\n",
    "vector_backend = Aer.get_backend('statevector_simulator')"
   ]
  },
  {
   "cell_type": "markdown",
   "metadata": {},
   "source": [
    "### 1. Circuit preparation <a id='circuit_preparation'></a>"
   ]
  },
  {
   "cell_type": "code",
   "execution_count": null,
   "metadata": {},
   "outputs": [],
   "source": [
    "from reservoir_engineering import *\n",
    "\n",
    "SHOTS = 8192\n",
    "\n",
    "# The values for p\n",
    "p_values = np.linspace(0, 1, 10)\n",
    "\n",
    "# We create the quantum circuit\n",
    "q = QuantumRegister(5, name='q')\n",
    "c = ClassicalRegister(2, name='c')\n",
    "\n",
    "# Index of the system qubit\n",
    "system = [2, 1]\n",
    "\n",
    "# Indices of the ancillary qubits\n",
    "a_zz = 0\n",
    "a_xx = 4\n",
    "\n",
    "# Prepare the qubits in four initial conditions\n",
    "ic_circs = initial_conditions(q, system)\n",
    "ic_state_labels = list(ic_circs)\n",
    "\n",
    "# Three different channels\n",
    "pumps = ['ZZ', 'XX', 'ZZ_XX']\n",
    "circuits = {}\n",
    "for pump in pumps:\n",
    "    circuits[pump] = {}\n",
    "    for ic in ic_state_labels:\n",
    "        circuits[pump][ic] = []\n",
    "for ic in ic_state_labels:\n",
    "    for p in p_values:\n",
    "        circuits['ZZ'][ic].append(ic_circs[ic]+zz_pump(q, c, p, system, a_zz))\n",
    "        circuits['XX'][ic].append(ic_circs[ic]+xx_pump(q, c, p, system, a_xx))\n",
    "        circuits['ZZ_XX'][ic].append(ic_circs[ic]+zz_xx_pump(q, c, p, system, [a_zz, a_xx]))\n",
    "\n",
    "# Calibration circuits\n",
    "cal_circuits, state_labels = complete_meas_cal(system, q, c)"
   ]
  },
  {
   "cell_type": "code",
   "execution_count": null,
   "metadata": {},
   "outputs": [],
   "source": [
    "circuits['ZZ_XX']['00'][1].draw(output='mpl')"
   ]
  },
  {
   "cell_type": "markdown",
   "metadata": {},
   "source": [
    "Drawing of one of the circuit of the composition map, with measurement on the `x` basis. Notice that consecutive gates resulting in identity have been removed."
   ]
  },
  {
   "cell_type": "markdown",
   "metadata": {},
   "source": [
    "### 2. Simulation <a id=\"simulation\"/>\n",
    "\n",
    "This cell executes locally the (noiseless) simulation of the circuits above."
   ]
  },
  {
   "cell_type": "code",
   "execution_count": null,
   "metadata": {},
   "outputs": [],
   "source": [
    "jobs_sim = {}\n",
    "for pump in pumps:\n",
    "    jobs_sim[pump] = {}\n",
    "    for ic in ic_state_labels:\n",
    "        jobs_sim[pump][ic] = execute(circuits[pump][ic], backend = simulator, shots = SHOTS)\n",
    "\n",
    "overlaps_sim = {}\n",
    "for pump in pumps:\n",
    "    overlaps_sim[pump] = {}\n",
    "    for ic in ic_state_labels:\n",
    "        overlaps_sim[pump][ic] = [0.0]*len(p_values)\n",
    "    for i in range(len(p_values)):\n",
    "        for ic in ic_state_labels:\n",
    "            counts = jobs_sim[pump][ic].result().get_counts(i)\n",
    "            for outcome in counts:\n",
    "                overlaps_sim[pump][outcome][i] += counts[outcome]/(4 * float(SHOTS))\n",
    "\n",
    "fig_idx = 131\n",
    "plt.figure(figsize=(15,6))\n",
    "bell_labels = {'00': r\"$| \\phi^{+} \\rangle$\", '01': r\"$| \\phi^{-} \\rangle$\", '10': r\"$| \\psi^{+} \\rangle$\", '11': r\"$| \\psi^{-} \\rangle$\"}\n",
    "for pump in pumps:\n",
    "    plt.subplot(fig_idx)\n",
    "    for outcome in overlaps_sim[pump]:\n",
    "        plt.plot(p_values, overlaps_sim[pump][outcome], label = bell_labels[outcome])\n",
    "    plt.xlabel('p')\n",
    "    plt.ylabel('Overlap')\n",
    "    fig_idx += 1\n",
    "plt.legend();"
   ]
  },
  {
   "cell_type": "markdown",
   "metadata": {},
   "source": [
    "### 3. Execution on the real device <a id=\"execution\" />"
   ]
  },
  {
   "cell_type": "code",
   "execution_count": null,
   "metadata": {},
   "outputs": [],
   "source": [
    "# Run the calibration job\n",
    "calibration_job = execute(cal_circuits, backend, shots=SHOTS)\n",
    "\n",
    "jobs = {}\n",
    "jobs_data = []\n",
    "for pump in pumps:\n",
    "    jobs[pump] = {}\n",
    "    for ic in ic_state_labels:\n",
    "        jobs[pump][ic] = execute(circuits[pump][ic], backend = backend, shots = SHOTS)\n",
    "        job_data = {'jobid': jobs[pump][ic].job_id(),\n",
    "                   'description': pump+' pump with initial condition '+ic+' for each value of p',\n",
    "                   'metadata': {'p_values': list(p_values), 'pump': pump, 'initial_condition': ic}}\n",
    "        jobs_data.append(job_data)\n",
    "\n",
    "experiment_data = [{\n",
    "    \"backend\": backend.name(),\n",
    "    \"calibration\": calibration_job.job_id(),\n",
    "    \"description\": \"Circuits for the simulation of the reservoir engineering channels\",\n",
    "    \"jobs\": jobs_data\n",
    "    }]\n",
    "\n",
    "filename = 'reservoir_engineering_{}.json'.format(\n",
    "            datetime.now().strftime((\"%Y_%m_%d-%H_%M\")))\n",
    "\n",
    "with open(filename,'w') as file:\n",
    "    json.dump(experiment_data, file)"
   ]
  },
  {
   "cell_type": "markdown",
   "metadata": {},
   "source": [
    "All the information about the experiment is stored in a JSON file called `reservoir_engineering_DATETIME.json`."
   ]
  },
  {
   "cell_type": "markdown",
   "metadata": {},
   "source": [
    "### 4. Analysis of the results <a id=\"analysis\"/>\n",
    "#### Instructions:\n",
    "Use the `filename` variable to load the JSON file containing the experiment information"
   ]
  },
  {
   "cell_type": "code",
   "execution_count": null,
   "metadata": {},
   "outputs": [],
   "source": [
    "# List the available experiment files\n",
    "\n",
    "import glob\n",
    "\n",
    "print(\"Available experiment files:\")\n",
    "for f in glob.glob('*.json'):\n",
    "    print(f)"
   ]
  },
  {
   "cell_type": "code",
   "execution_count": null,
   "metadata": {},
   "outputs": [],
   "source": [
    "filename = \"reservoir_engineering_2019_10_12-16_49.json\"\n",
    "\n",
    "with open(filename, 'r') as file:\n",
    "    experiment_data = json.load(file)\n",
    "print(experiment_data[0]['description'])\n",
    "print(\"Run on\", experiment_data[0]['backend'])"
   ]
  },
  {
   "cell_type": "code",
   "execution_count": null,
   "metadata": {},
   "outputs": [],
   "source": [
    "# Get the backend\n",
    "backend = IBMQ.get_provider(hub='ibm-q', group='open', project='main').get_backend(experiment_data[0]['backend'])\n",
    "\n",
    "# Use the calibration job to implement the error mitigation\n",
    "calibration_job = backend.retrieve_job(experiment_data[0]['calibration'])\n",
    "meas_fitter = CompleteMeasFitter(calibration_job.result(), ic_state_labels)\n",
    "meas_filter = meas_fitter.filter\n",
    "\n",
    "p_values = np.array(experiment_data[0]['jobs'][0]['metadata']['p_values'])\n",
    "\n",
    "jobs = {}\n",
    "for job in experiment_data[0]['jobs']:\n",
    "    pump = job['metadata']['pump']\n",
    "    ic = job['metadata']['initial_condition']\n",
    "    if pump not in jobs:\n",
    "        jobs[pump] = {}\n",
    "    jobs[pump][ic] = backend.retrieve_job(job['jobid'])\n",
    "\n",
    "overlaps = {}\n",
    "for pump in pumps:\n",
    "    overlaps[pump] = {}\n",
    "    for ic in ic_state_labels:\n",
    "        overlaps[pump][ic] = [0.0]*len(p_values)\n",
    "    for i in range(len(p_values)):\n",
    "        for ic in ic_state_labels:\n",
    "            counts = meas_filter.apply(jobs[pump][ic].result()).get_counts(i)\n",
    "            for outcome in counts:\n",
    "                overlaps[pump][outcome][i] += counts[outcome]/(4 * float(SHOTS))\n",
    "\n",
    "fig_idx = 131\n",
    "plt.figure(figsize=(15,6))\n",
    "bell_labels = {'00': r\"$| \\phi^{+} \\rangle$\", '01': r\"$| \\phi^{-} \\rangle$\", '10': r\"$| \\psi^{+} \\rangle$\", '11': r\"$| \\psi^{-} \\rangle$\"}\n",
    "for pump in pumps:\n",
    "    plt.subplot(fig_idx)\n",
    "    for outcome in overlaps[pump]:\n",
    "        plt.plot(p_values, overlaps[pump][outcome], label = bell_labels[outcome])\n",
    "    plt.xlabel('p')\n",
    "    plt.ylabel('Overlap')\n",
    "    fig_idx += 1\n",
    "    plt.grid()\n",
    "plt.legend();"
   ]
  },
  {
   "cell_type": "markdown",
   "metadata": {},
   "source": [
    "The job contains info on the gate and measurement error rates"
   ]
  },
  {
   "cell_type": "code",
   "execution_count": null,
   "metadata": {},
   "outputs": [],
   "source": [
    "jobs['ZZ']['00'].properties().qubits"
   ]
  },
  {
   "cell_type": "code",
   "execution_count": null,
   "metadata": {},
   "outputs": [],
   "source": [
    "jobs['ZZ']['00'].properties().gates"
   ]
  },
  {
   "cell_type": "code",
   "execution_count": null,
   "metadata": {},
   "outputs": [],
   "source": []
  }
 ],
 "metadata": {
  "kernelspec": {
   "display_name": "Python 3",
   "language": "python",
   "name": "python3"
  },
  "language_info": {
   "codemirror_mode": {
    "name": "ipython",
    "version": 3
   },
   "file_extension": ".py",
   "mimetype": "text/x-python",
   "name": "python",
   "nbconvert_exporter": "python",
   "pygments_lexer": "ipython3",
   "version": "3.7.1"
  }
 },
 "nbformat": 4,
 "nbformat_minor": 2
}
